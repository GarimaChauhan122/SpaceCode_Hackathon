{
 "cells": [
  {
   "cell_type": "code",
   "execution_count": 3,
   "id": "4e277555",
   "metadata": {},
   "outputs": [],
   "source": [
    "import pandas as pd"
   ]
  },
  {
   "cell_type": "code",
   "execution_count": 5,
   "id": "be61d1d4",
   "metadata": {},
   "outputs": [],
   "source": [
    "from sklearn.model_selection import train_test_split\n",
    "from sklearn.ensemble import RandomForestClassifier\n",
    "from sklearn.metrics import accuracy_score, classification_report\n",
    "\n",
    "# Load your CSV data into a Pandas DataFrame and specify the index column\n",
    "data = pd.read_csv('pulsar_training.csv', index_col=0)\n",
    "\n",
    "# Drop the index column if it's not needed for modeling\n",
    "data = data.reset_index(drop=True)\n",
    "\n",
    "# Separate features (X) and target variable (y)\n",
    "X_train = data.iloc[:, :-1]  # Assuming the last column is the target variable\n",
    "y_train = data.iloc[:, -1]"
   ]
  },
  {
   "cell_type": "code",
   "execution_count": 6,
   "id": "34eb8a89",
   "metadata": {},
   "outputs": [],
   "source": [
    "test_data = pd.read_csv('pulsar_test.csv', index_col=0)\n",
    "\n",
    "# Drop the index column if it's not needed for modeling\n",
    "test_data = test_data.reset_index(drop=True)\n",
    "\n",
    "# Separate features (X) and target variable (y)\n",
    "X_test = test_data.iloc[:, :-1]  # Assuming the last column is the target variable\n",
    "y_test = test_data.iloc[:, -1]"
   ]
  },
  {
   "cell_type": "code",
   "execution_count": 9,
   "id": "3bd3d81f",
   "metadata": {},
   "outputs": [
    {
     "name": "stdout",
     "output_type": "stream",
     "text": [
      "Accuracy: 0.97\n",
      "Classification Report:\n",
      "               precision    recall  f1-score   support\n",
      "\n",
      "           0       0.97      1.00      0.98      3151\n",
      "           1       0.97      0.80      0.88       428\n",
      "\n",
      "    accuracy                           0.97      3579\n",
      "   macro avg       0.97      0.90      0.93      3579\n",
      "weighted avg       0.97      0.97      0.97      3579\n",
      "\n"
     ]
    }
   ],
   "source": [
    "rf_classifier = RandomForestClassifier(n_estimators=1024, random_state=42)\n",
    "\n",
    "# Train the classifier on the training data\n",
    "rf_classifier.fit(X_train, y_train)\n",
    "\n",
    "# Make predictions on the test set\n",
    "y_pred = rf_classifier.predict(X_test)\n",
    "\n",
    "# Evaluate the performance of the classifier\n",
    "accuracy = accuracy_score(y_test, y_pred)\n",
    "print(f'Accuracy: {accuracy:.2f}')\n",
    "\n",
    "# Display classification report\n",
    "print('Classification Report:\\n', classification_report(y_test, y_pred))"
   ]
  },
  {
   "cell_type": "code",
   "execution_count": null,
   "id": "e5c970e9",
   "metadata": {},
   "outputs": [],
   "source": []
  }
 ],
 "metadata": {
  "kernelspec": {
   "display_name": "Python 3 (ipykernel)",
   "language": "python",
   "name": "python3"
  },
  "language_info": {
   "codemirror_mode": {
    "name": "ipython",
    "version": 3
   },
   "file_extension": ".py",
   "mimetype": "text/x-python",
   "name": "python",
   "nbconvert_exporter": "python",
   "pygments_lexer": "ipython3",
   "version": "3.11.5"
  }
 },
 "nbformat": 4,
 "nbformat_minor": 5
}
